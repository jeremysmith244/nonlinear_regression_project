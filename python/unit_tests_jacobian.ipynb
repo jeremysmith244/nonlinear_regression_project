{
 "cells": [
  {
   "cell_type": "code",
   "execution_count": 2,
   "id": "8ff29496-e17e-4a6d-b796-60e66c7380e6",
   "metadata": {},
   "outputs": [],
   "source": [
    "# Wikipedia Gauss-Newton Example, using very efficient scipy implementation\n",
    "\n",
    "from scipy.optimize import curve_fit\n",
    "import numpy as np\n",
    "import matplotlib.pyplot as plt\n",
    "from time import time\n",
    "from numpy.linalg import solve\n",
    "from numpy.linalg import pinv"
   ]
  },
  {
   "cell_type": "code",
   "execution_count": 61,
   "id": "f7573c74-49c7-4887-8f27-1576c14506a3",
   "metadata": {},
   "outputs": [],
   "source": [
    "# fun = [x+sin(y), y+sin(x)], so Jacobian = [[1,cos(y)],[cos(x),1]]\n",
    "\n",
    "def test_fun(X):\n",
    "    return np.array([X[0]+np.sin(X[1]), X[1]+np.sin(X[0])])\n",
    "\n",
    "def test_jacobian(X):\n",
    "    return np.array([[1,np.cos(X[1])],[np.cos(X[0]),1]])"
   ]
  },
  {
   "cell_type": "code",
   "execution_count": 81,
   "id": "7a2d9780-e6d2-418d-a9d4-1a69ac1155b1",
   "metadata": {},
   "outputs": [],
   "source": [
    "X = np.array([-2.,1.])\n",
    "step = 0.1"
   ]
  },
  {
   "cell_type": "code",
   "execution_count": 82,
   "id": "af0e9e6a-b840-4078-bf5f-b608ca0d2fed",
   "metadata": {},
   "outputs": [
    {
     "data": {
      "text/plain": [
       "array([-1.15852902,  0.09070257])"
      ]
     },
     "execution_count": 82,
     "metadata": {},
     "output_type": "execute_result"
    }
   ],
   "source": [
    "test_fun(X)"
   ]
  },
  {
   "cell_type": "code",
   "execution_count": 83,
   "id": "fc3619e9-8561-4fef-96b5-0c2395eab426",
   "metadata": {},
   "outputs": [
    {
     "data": {
      "text/plain": [
       "array([[ 1.        ,  0.54030231],\n",
       "       [-0.41614684,  1.        ]])"
      ]
     },
     "execution_count": 83,
     "metadata": {},
     "output_type": "execute_result"
    }
   ],
   "source": [
    "test_jacobian(X)"
   ]
  },
  {
   "cell_type": "code",
   "execution_count": 84,
   "id": "442643ec-e7b8-48e2-a0b2-e5237c313c56",
   "metadata": {},
   "outputs": [
    {
     "data": {
      "text/plain": [
       "array([-1.00879264,  0.15369991])"
      ]
     },
     "execution_count": 84,
     "metadata": {},
     "output_type": "execute_result"
    }
   ],
   "source": [
    "test_fun(X+np.ones(X.shape)*step)"
   ]
  },
  {
   "cell_type": "code",
   "execution_count": 85,
   "id": "de94e651-83c7-4417-9c03-4f7ef7fb11e1",
   "metadata": {},
   "outputs": [
    {
     "data": {
      "text/plain": [
       "array([-1.26948124,  0.14798465])"
      ]
     },
     "execution_count": 85,
     "metadata": {},
     "output_type": "execute_result"
    }
   ],
   "source": [
    "test_fun(X) + step*test_jacobian(X) @ test_fun(X)"
   ]
  },
  {
   "cell_type": "code",
   "execution_count": 86,
   "id": "b6093f80-a9f7-42b0-a762-ac978f8d863c",
   "metadata": {},
   "outputs": [
    {
     "data": {
      "text/plain": [
       "array([[ 1.        ,  0.54030231],\n",
       "       [-0.41614684,  1.        ]])"
      ]
     },
     "execution_count": 86,
     "metadata": {},
     "output_type": "execute_result"
    }
   ],
   "source": [
    "test_jacobian(X)"
   ]
  },
  {
   "cell_type": "code",
   "execution_count": 87,
   "id": "bae3cef3-7b0c-44df-9c0a-88c1f1233e06",
   "metadata": {},
   "outputs": [
    {
     "data": {
      "text/plain": [
       "1.224845095366153"
      ]
     },
     "execution_count": 87,
     "metadata": {},
     "output_type": "execute_result"
    }
   ],
   "source": [
    "np.linalg.det(test_jacobian(X))"
   ]
  },
  {
   "cell_type": "code",
   "execution_count": 102,
   "id": "82dd300b-e6c7-4c9b-9206-56762e0b1cef",
   "metadata": {},
   "outputs": [],
   "source": [
    "b0 = np.array([-2,1])\n",
    "b = b0 + 0.1"
   ]
  },
  {
   "cell_type": "code",
   "execution_count": 103,
   "id": "0cba3fbf-a8f6-45b0-8184-b052dbaa09d8",
   "metadata": {},
   "outputs": [],
   "source": [
    "def compute_jacobian(b, b0, predict):\n",
    "    '''\n",
    "    '''\n",
    "    b = b.astype(float)\n",
    "    b0 = b0.astype(float)\n",
    "    J = np.zeros((len(b),len(b)))\n",
    "    for i in range(J.shape[1]):\n",
    "        test_β = b0.copy()\n",
    "        test_β[i] = b[i]\n",
    "        delta = predict(test_β) - predict(b0)\n",
    "        J[:,i] = delta / (b[i] - b0[i])\n",
    "    Jt = J.T\n",
    "    JtJ = Jt @ J\n",
    "    return J"
   ]
  },
  {
   "cell_type": "code",
   "execution_count": 104,
   "id": "b813ceec-f5a8-4e3c-8cd3-218634a38dd5",
   "metadata": {},
   "outputs": [
    {
     "data": {
      "text/plain": [
       "array([[ 1.        ,  0.49736375],\n",
       "       [-0.37002661,  1.        ]])"
      ]
     },
     "execution_count": 104,
     "metadata": {},
     "output_type": "execute_result"
    }
   ],
   "source": [
    "compute_jacobian(b,b0,test_fun)"
   ]
  },
  {
   "cell_type": "code",
   "execution_count": null,
   "id": "63473110-2d5f-4321-89c5-6b4814daafac",
   "metadata": {},
   "outputs": [],
   "source": []
  },
  {
   "cell_type": "code",
   "execution_count": null,
   "id": "a1178287-4e80-4690-b478-6eb6e2dec860",
   "metadata": {},
   "outputs": [],
   "source": []
  },
  {
   "cell_type": "code",
   "execution_count": null,
   "id": "e0a68992-f2c1-4be2-9cfc-699352e1d8d9",
   "metadata": {},
   "outputs": [],
   "source": []
  }
 ],
 "metadata": {
  "kernelspec": {
   "display_name": "Python 3",
   "language": "python",
   "name": "python3"
  },
  "language_info": {
   "codemirror_mode": {
    "name": "ipython",
    "version": 3
   },
   "file_extension": ".py",
   "mimetype": "text/x-python",
   "name": "python",
   "nbconvert_exporter": "python",
   "pygments_lexer": "ipython3",
   "version": "3.8.8"
  }
 },
 "nbformat": 4,
 "nbformat_minor": 5
}
