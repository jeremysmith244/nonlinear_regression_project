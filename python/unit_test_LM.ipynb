{
 "cells": [
  {
   "cell_type": "code",
   "execution_count": 1,
   "id": "8ff29496-e17e-4a6d-b796-60e66c7380e6",
   "metadata": {},
   "outputs": [],
   "source": [
    "from NLSolver import *"
   ]
  },
  {
   "cell_type": "code",
   "execution_count": 2,
   "id": "63473110-2d5f-4321-89c5-6b4814daafac",
   "metadata": {},
   "outputs": [
    {
     "name": "stdout",
     "output_type": "stream",
     "text": [
      "LM took: 0.01396322250366211\n"
     ]
    },
    {
     "data": {
      "image/png": "[encoded data removed]",
      "text/plain": [
       "<Figure size 432x288 with 1 Axes>"
      ]
     },
     "metadata": {
      "needs_background": "light"
     },
     "output_type": "display_data"
    }
   ],
   "source": [
    "# Wikipedia Gauss-Newton Example, using very efficient scipy implementation\n",
    "\n",
    "from scipy.optimize import curve_fit\n",
    "import numpy as np\n",
    "import matplotlib.pyplot as plt\n",
    "from time import time\n",
    "\n",
    "# Data\n",
    "S = np.array([0.038,0.194,0.425,0.626,1.253,2.5,3.74])\n",
    "r = np.array([0.05,0.127,0.094,0.2122,0.2729,0.2665,0.3317])\n",
    "\n",
    "# Rate equation\n",
    "def rate_eq(S,Vmax,Km):\n",
    "    return Vmax*S / (Km + S)\n",
    "\n",
    "# Fit with LM in scipy\n",
    "\n",
    "# Play with these, you will see how robust this is (its scipy, its very robust)\n",
    "p0 = np.array([100,100])\n",
    "t0 = time()\n",
    "popt, res = curve_fit(rate_eq, S, r, p0=p0)\n",
    "t1 = time()\n",
    "print('LM took: %s'%(t1-t0))\n",
    "err = np.sqrt(np.diag(res))\n",
    "ypred = rate_eq(S,popt[0],popt[1])\n",
    "\n",
    "# Plot result\n",
    "plt.plot(S,r,'ro')\n",
    "plt.plot(S,ypred,'b--')\n",
    "plt.xlabel('Concentration')\n",
    "plt.ylabel('Rate');"
   ]
  },
  {
   "cell_type": "code",
   "execution_count": null,
   "id": "a1178287-4e80-4690-b478-6eb6e2dec860",
   "metadata": {},
   "outputs": [],
   "source": []
  },
  {
   "cell_type": "code",
   "execution_count": 4,
   "id": "e0a68992-f2c1-4be2-9cfc-699352e1d8d9",
   "metadata": {},
   "outputs": [
    {
     "name": "stdout",
     "output_type": "stream",
     "text": [
      "Levenberg–Marquardt; Iteration: 0, RMSE: 0.04463193468573001\n",
      "Levenberg–Marquardt; Iteration: 1, RMSE: 0.040058373942973215\n",
      "Levenberg–Marquardt; Iteration: 2, RMSE: 0.03356044664155601\n",
      "Levenberg–Marquardt; Iteration: 3, RMSE: 0.033475516258554855\n",
      "Levenberg–Marquardt; Iteration: 4, RMSE: 0.03347496832375215\n",
      "Levenberg–Marquardt; Iteration: 5, RMSE: 0.033474949605913976\n",
      "Levenberg–Marquardt; Iteration: 6, RMSE: 0.03347494961843725\n",
      "GN in Python took: 0.0029735565185546875\n"
     ]
    },
    {
     "data": {
      "image/png": "[encoded data removed]",
      "text/plain": [
       "<Figure size 432x288 with 1 Axes>"
      ]
     },
     "metadata": {
      "needs_background": "light"
     },
     "output_type": "display_data"
    }
   ],
   "source": [
    "# Rate equation in vector form as required by above\n",
    "def rate_eq(S,args):\n",
    "    return args[0]*S / (args[1] + S)\n",
    "\n",
    "# Initial parameters, try this a few times, you will see why GN has issues\n",
    "B0 = np.array([0.1,0.1])\n",
    "\n",
    "# Call solver above, actually its impressively fast even in pure Python for this case\n",
    "t0 = time()\n",
    "gns = NLSolver(B0, S, r, rate_eq,method='Levenberg–Marquardt')\n",
    "gns.fit()\n",
    "t1 = time()\n",
    "ypred = gns.predict()\n",
    "\n",
    "# Plot result\n",
    "plt.plot(S,r,'ro')\n",
    "plt.plot(S,ypred,'b--')\n",
    "plt.xlabel('Concentration')\n",
    "plt.ylabel('Rate')\n",
    "\n",
    "print('GN in Python took: %s'%(t1-t0))"
   ]
  },
  {
   "cell_type": "code",
   "execution_count": 6,
   "id": "3c707a67-384b-4f49-a6d0-92b5f339092a",
   "metadata": {},
   "outputs": [
    {
     "name": "stdout",
     "output_type": "stream",
     "text": [
      "Levenberg–Marquardt; Iteration: 0, RMSE: 0.30633577589271177\n",
      "Levenberg–Marquardt; Iteration: 1, RMSE: 0.0841786561560802\n",
      "Levenberg–Marquardt; Iteration: 2, RMSE: 6.975024557061942\n",
      "Levenberg–Marquardt; Iteration: 3, RMSE: 0.4934241912030977\n",
      "Levenberg–Marquardt; Iteration: 4, RMSE: 0.34478678791374445\n",
      "Levenberg–Marquardt; Iteration: 5, RMSE: 0.41292352888849987\n",
      "Levenberg–Marquardt; Iteration: 6, RMSE: 0.2654120762137941\n",
      "Levenberg–Marquardt; Iteration: 7, RMSE: 0.238986829303892\n",
      "Levenberg–Marquardt; Iteration: 8, RMSE: 0.22103671587369073\n",
      "Levenberg–Marquardt; Iteration: 9, RMSE: 0.21697995105803083\n",
      "Levenberg–Marquardt; Iteration: 10, RMSE: 0.2164831329380287\n",
      "Levenberg–Marquardt; Iteration: 11, RMSE: 0.21647022339560595\n",
      "Levenberg–Marquardt; Iteration: 12, RMSE: 0.21647018600666412\n",
      "Levenberg–Marquardt; Iteration: 13, RMSE: 0.21645724022263613\n",
      "Levenberg–Marquardt; Iteration: 14, RMSE: nan\n",
      "Levenberg–Marquardt; Iteration: 15, RMSE: nan\n",
      "Levenberg–Marquardt; Iteration: 16, RMSE: nan\n",
      "Levenberg–Marquardt; Iteration: 17, RMSE: nan\n",
      "Levenberg–Marquardt; Iteration: 18, RMSE: nan\n",
      "Levenberg–Marquardt; Iteration: 19, RMSE: nan\n",
      "Levenberg–Marquardt; Iteration: 20, RMSE: nan\n",
      "Levenberg–Marquardt; Iteration: 21, RMSE: nan\n",
      "Levenberg–Marquardt; Iteration: 22, RMSE: nan\n",
      "Levenberg–Marquardt; Iteration: 23, RMSE: nan\n",
      "Levenberg–Marquardt; Iteration: 24, RMSE: nan\n",
      "Levenberg–Marquardt; Iteration: 25, RMSE: nan\n",
      "Levenberg–Marquardt; Iteration: 26, RMSE: nan\n",
      "Levenberg–Marquardt; Iteration: 27, RMSE: nan\n",
      "Levenberg–Marquardt; Iteration: 28, RMSE: nan\n",
      "Levenberg–Marquardt; Iteration: 29, RMSE: nan\n",
      "Levenberg–Marquardt; Iteration: 30, RMSE: nan\n",
      "Levenberg–Marquardt; Iteration: 31, RMSE: nan\n",
      "Levenberg–Marquardt; Iteration: 32, RMSE: nan\n",
      "Levenberg–Marquardt; Iteration: 33, RMSE: nan\n",
      "Levenberg–Marquardt; Iteration: 34, RMSE: nan\n",
      "Levenberg–Marquardt; Iteration: 35, RMSE: nan\n",
      "Levenberg–Marquardt; Iteration: 36, RMSE: nan\n",
      "Levenberg–Marquardt; Iteration: 37, RMSE: nan\n",
      "Levenberg–Marquardt; Iteration: 38, RMSE: nan\n",
      "Levenberg–Marquardt; Iteration: 39, RMSE: nan\n",
      "Levenberg–Marquardt; Iteration: 40, RMSE: nan\n",
      "Levenberg–Marquardt; Iteration: 41, RMSE: nan\n",
      "Levenberg–Marquardt; Iteration: 42, RMSE: nan\n",
      "Levenberg–Marquardt; Iteration: 43, RMSE: nan\n",
      "Levenberg–Marquardt; Iteration: 44, RMSE: nan\n",
      "Levenberg–Marquardt; Iteration: 45, RMSE: nan\n",
      "Levenberg–Marquardt; Iteration: 46, RMSE: nan\n",
      "Levenberg–Marquardt; Iteration: 47, RMSE: nan\n",
      "Levenberg–Marquardt; Iteration: 48, RMSE: nan\n",
      "Levenberg–Marquardt; Iteration: 49, RMSE: nan\n",
      "Levenberg–Marquardt; Iteration: 50, RMSE: nan\n",
      "Levenberg–Marquardt; Iteration: 51, RMSE: nan\n",
      "Levenberg–Marquardt; Iteration: 52, RMSE: nan\n",
      "Levenberg–Marquardt; Iteration: 53, RMSE: nan\n",
      "Levenberg–Marquardt; Iteration: 54, RMSE: nan\n",
      "Levenberg–Marquardt; Iteration: 55, RMSE: nan\n",
      "Levenberg–Marquardt; Iteration: 56, RMSE: nan\n",
      "Levenberg–Marquardt; Iteration: 57, RMSE: nan\n",
      "Levenberg–Marquardt; Iteration: 58, RMSE: nan\n",
      "Levenberg–Marquardt; Iteration: 59, RMSE: nan\n",
      "Levenberg–Marquardt; Iteration: 60, RMSE: nan\n",
      "Levenberg–Marquardt; Iteration: 61, RMSE: nan\n",
      "Levenberg–Marquardt; Iteration: 62, RMSE: nan\n",
      "Levenberg–Marquardt; Iteration: 63, RMSE: nan\n",
      "Levenberg–Marquardt; Iteration: 64, RMSE: nan\n",
      "Levenberg–Marquardt; Iteration: 65, RMSE: nan\n",
      "Levenberg–Marquardt; Iteration: 66, RMSE: nan\n",
      "Levenberg–Marquardt; Iteration: 67, RMSE: nan\n",
      "Levenberg–Marquardt; Iteration: 68, RMSE: nan\n",
      "Levenberg–Marquardt; Iteration: 69, RMSE: nan\n",
      "Levenberg–Marquardt; Iteration: 70, RMSE: nan\n",
      "Levenberg–Marquardt; Iteration: 71, RMSE: nan\n",
      "Levenberg–Marquardt; Iteration: 72, RMSE: nan\n",
      "Levenberg–Marquardt; Iteration: 73, RMSE: nan\n",
      "Levenberg–Marquardt; Iteration: 74, RMSE: nan\n",
      "Levenberg–Marquardt; Iteration: 75, RMSE: nan\n",
      "Levenberg–Marquardt; Iteration: 76, RMSE: nan\n",
      "Levenberg–Marquardt; Iteration: 77, RMSE: nan\n",
      "Levenberg–Marquardt; Iteration: 78, RMSE: nan\n",
      "Levenberg–Marquardt; Iteration: 79, RMSE: nan\n",
      "Levenberg–Marquardt; Iteration: 80, RMSE: nan\n",
      "Levenberg–Marquardt; Iteration: 81, RMSE: nan\n",
      "Levenberg–Marquardt; Iteration: 82, RMSE: nan\n",
      "Levenberg–Marquardt; Iteration: 83, RMSE: nan\n",
      "Levenberg–Marquardt; Iteration: 84, RMSE: nan\n",
      "Levenberg–Marquardt; Iteration: 85, RMSE: nan\n",
      "Levenberg–Marquardt; Iteration: 86, RMSE: nan\n",
      "Levenberg–Marquardt; Iteration: 87, RMSE: nan\n",
      "Levenberg–Marquardt; Iteration: 88, RMSE: nan\n",
      "Levenberg–Marquardt; Iteration: 89, RMSE: nan\n",
      "Levenberg–Marquardt; Iteration: 90, RMSE: nan\n",
      "Levenberg–Marquardt; Iteration: 91, RMSE: nan\n",
      "Levenberg–Marquardt; Iteration: 92, RMSE: nan\n",
      "Levenberg–Marquardt; Iteration: 93, RMSE: nan\n",
      "Levenberg–Marquardt; Iteration: 94, RMSE: nan\n",
      "Levenberg–Marquardt; Iteration: 95, RMSE: nan\n",
      "Levenberg–Marquardt; Iteration: 96, RMSE: nan\n",
      "Levenberg–Marquardt; Iteration: 97, RMSE: nan\n",
      "Levenberg–Marquardt; Iteration: 98, RMSE: nan\n",
      "Levenberg–Marquardt; Iteration: 99, RMSE: nan\n",
      "GN in Python took: 0.03191399574279785\n"
     ]
    },
    {
     "name": "stderr",
     "output_type": "stream",
     "text": [
      "C:\\Users\\jerem\\OneDrive\\Desktop\\projects\\non_linear_regression_websit\\NLSolver.py:81: RuntimeWarning: invalid value encountered in true_divide\n",
      "  J[:,i] = delta_residual / (b[i] - b0[i])\n"
     ]
    },
    {
     "data": {
      "image/png": "[encoded data removed]",
      "text/plain": [
       "<Figure size 432x288 with 1 Axes>"
      ]
     },
     "metadata": {
      "needs_background": "light"
     },
     "output_type": "display_data"
    }
   ],
   "source": [
    "# Rate equation in vector form as required by above\n",
    "def rate_eq(S,args):\n",
    "    return args[0]*S / (args[1] + S)\n",
    "\n",
    "# Initial parameters, try this a few times, you will see why GN has issues\n",
    "B0 = np.array([10,10])\n",
    "\n",
    "# Call solver above, actually its impressively fast even in pure Python for this case\n",
    "t0 = time()\n",
    "gns = NLSolver(B0, S, r, rate_eq,method='Levenberg–Marquardt')\n",
    "gns.fit()\n",
    "t1 = time()\n",
    "ypred = gns.predict()\n",
    "\n",
    "# Plot result\n",
    "plt.plot(S,r,'ro')\n",
    "plt.plot(S,ypred,'b--')\n",
    "plt.xlabel('Concentration')\n",
    "plt.ylabel('Rate')\n",
    "\n",
    "print('GN in Python took: %s'%(t1-t0))"
   ]
  },
  {
   "cell_type": "code",
   "execution_count": 5,
   "id": "d5c86d67-acd6-4e90-9a10-8d005ac9fdd6",
   "metadata": {},
   "outputs": [
    {
     "name": "stdout",
     "output_type": "stream",
     "text": [
      "Levenberg–Marquardt; Iteration: 0, RMSE: 0.08236947891919687\n",
      "Levenberg–Marquardt; Iteration: 1, RMSE: 0.7646656476301681\n",
      "Levenberg–Marquardt; Iteration: 2, RMSE: 0.045954218877901215\n",
      "Levenberg–Marquardt; Iteration: 3, RMSE: 0.0405233893837467\n",
      "Levenberg–Marquardt; Iteration: 4, RMSE: 0.03381383170770297\n",
      "Levenberg–Marquardt; Iteration: 5, RMSE: 0.033492319767416144\n",
      "Levenberg–Marquardt; Iteration: 6, RMSE: 0.033474961378133036\n",
      "Levenberg–Marquardt; Iteration: 7, RMSE: 0.033474964847900385\n",
      "Levenberg–Marquardt; Iteration: 8, RMSE: 0.03347494959420466\n",
      "Levenberg–Marquardt; Iteration: 9, RMSE: 0.0334749496130716\n",
      "GN in Python took: 0.0040242671966552734\n"
     ]
    },
    {
     "data": {
      "image/png": "[encoded data removed]",
      "text/plain": [
       "<Figure size 432x288 with 1 Axes>"
      ]
     },
     "metadata": {
      "needs_background": "light"
     },
     "output_type": "display_data"
    }
   ],
   "source": [
    "# Rate equation in vector form as required by above\n",
    "def rate_eq(S,args):\n",
    "    return args[0]*S / (args[1] + S)\n",
    "\n",
    "# Initial parameters, try this a few times, you will see why GN has issues\n",
    "B0 = np.array([0.01,0.01])\n",
    "\n",
    "# Call solver above, actually its impressively fast even in pure Python for this case\n",
    "t0 = time()\n",
    "gns = NLSolver(B0, S, r, rate_eq,method='Levenberg–Marquardt')\n",
    "gns.fit()\n",
    "t1 = time()\n",
    "ypred = gns.predict()\n",
    "\n",
    "# Plot result\n",
    "plt.plot(S,r,'ro')\n",
    "plt.plot(S,ypred,'b--')\n",
    "plt.xlabel('Concentration')\n",
    "plt.ylabel('Rate')\n",
    "\n",
    "print('GN in Python took: %s'%(t1-t0))"
   ]
  },
  {
   "cell_type": "code",
   "execution_count": 6,
   "id": "6a38fbab-2b40-44b9-9170-6b456a85d1c6",
   "metadata": {},
   "outputs": [
    {
     "data": {
      "text/plain": [
       "array([nan, nan])"
      ]
     },
     "execution_count": 6,
     "metadata": {},
     "output_type": "execute_result"
    }
   ],
   "source": [
    "gns.b"
   ]
  },
  {
   "cell_type": "code",
   "execution_count": 11,
   "id": "62890973-0f50-4b32-b817-d1c614b42058",
   "metadata": {},
   "outputs": [
    {
     "data": {
      "text/plain": [
       "array([ 0.01339114, -0.03547906, -0.20424561, -0.17279385, -0.28324736,\n",
       "       -0.44778571, -0.45732954])"
      ]
     },
     "execution_count": 11,
     "metadata": {},
     "output_type": "execute_result"
    }
   ],
   "source": [
    "r = gns.compute_residual(r, rate_eq, S, B0)\n",
    "r"
   ]
  },
  {
   "cell_type": "code",
   "execution_count": 12,
   "id": "c7f9b3b4-9245-4f1b-823d-562d43a00752",
   "metadata": {},
   "outputs": [
    {
     "data": {
      "text/plain": [
       "array([[ 0.03660886, -0.03526862],\n",
       "       [ 0.16247906, -0.1360795 ],\n",
       "       [ 0.29824561, -0.20929502],\n",
       "       [ 0.38499385, -0.23677344],\n",
       "       [ 0.55614736, -0.24684736],\n",
       "       [ 0.71428571, -0.20408157],\n",
       "       [ 0.78902954, -0.16646189]])"
      ]
     },
     "execution_count": 12,
     "metadata": {},
     "output_type": "execute_result"
    }
   ],
   "source": [
    "B1 = B0 + 1e-6\n",
    "J = gns.compute_jacobian(S, B1, B0, rate_eq, r)\n",
    "J"
   ]
  },
  {
   "cell_type": "code",
   "execution_count": 13,
   "id": "a3e3c235-b16c-44e5-bfec-e4d83f858643",
   "metadata": {},
   "outputs": [
    {
     "data": {
      "text/plain": [
       "array([[-0.15228528, -0.51856525, -0.64040698, -0.56977833, -0.09089132,\n",
       "         0.7521377 ,  1.28448736],\n",
       "       [-0.50146768, -1.77155745, -2.35282362, -2.29564603, -1.20277873,\n",
       "         0.96317329,  2.37338311]])"
      ]
     },
     "execution_count": 13,
     "metadata": {},
     "output_type": "execute_result"
    }
   ],
   "source": [
    "JpI = gns.compute_pseudoinverse(J)\n",
    "JpI"
   ]
  },
  {
   "cell_type": "code",
   "execution_count": 14,
   "id": "50401ec2-4a62-45f0-a8f8-e192a04ab263",
   "metadata": {},
   "outputs": [
    {
     "data": {
      "text/plain": [
       "array([-0.65287236, -0.24266414])"
      ]
     },
     "execution_count": 14,
     "metadata": {},
     "output_type": "execute_result"
    }
   ],
   "source": [
    "JpI @ r"
   ]
  },
  {
   "cell_type": "code",
   "execution_count": 15,
   "id": "5d3bc146-c0f8-4335-aa0d-7377e0129e95",
   "metadata": {},
   "outputs": [
    {
     "data": {
      "text/plain": [
       "array([1.65287336, 1.24266514])"
      ]
     },
     "execution_count": 15,
     "metadata": {},
     "output_type": "execute_result"
    }
   ],
   "source": [
    "B2 = B1 - JpI @ r\n",
    "B2"
   ]
  },
  {
   "cell_type": "code",
   "execution_count": 9,
   "id": "d485aea2-a8ee-4960-80f1-c6a43c23018a",
   "metadata": {},
   "outputs": [
    {
     "data": {
      "text/plain": [
       "2"
      ]
     },
     "execution_count": 9,
     "metadata": {},
     "output_type": "execute_result"
    }
   ],
   "source": [
    "np.isnan(gns.b).sum()"
   ]
  },
  {
   "cell_type": "code",
   "execution_count": null,
   "id": "71eb0973-e67d-4e22-a780-36ea6eb05aa4",
   "metadata": {},
   "outputs": [],
   "source": []
  }
 ],
 "metadata": {
  "kernelspec": {
   "display_name": "Python 3",
   "language": "python",
   "name": "python3"
  },
  "language_info": {
   "codemirror_mode": {
    "name": "ipython",
    "version": 3
   },
   "file_extension": ".py",
   "mimetype": "text/x-python",
   "name": "python",
   "nbconvert_exporter": "python",
   "pygments_lexer": "ipython3",
   "version": "3.8.8"
  }
 },
 "nbformat": 4,
 "nbformat_minor": 5
}
